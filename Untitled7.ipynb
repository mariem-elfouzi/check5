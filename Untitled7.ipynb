{
  "nbformat": 4,
  "nbformat_minor": 0,
  "metadata": {
    "colab": {
      "name": "Untitled7.ipynb",
      "provenance": [],
      "collapsed_sections": [],
      "authorship_tag": "ABX9TyOMHmnnQM35ySsCLNI+rsFJ",
      "include_colab_link": true
    },
    "kernelspec": {
      "name": "python3",
      "display_name": "Python 3"
    },
    "language_info": {
      "name": "python"
    }
  },
  "cells": [
    {
      "cell_type": "markdown",
      "metadata": {
        "id": "view-in-github",
        "colab_type": "text"
      },
      "source": [
        "<a href=\"https://colab.research.google.com/github/mariem-elfouzi/check5/blob/main/Untitled7.ipynb\" target=\"_parent\"><img src=\"https://colab.research.google.com/assets/colab-badge.svg\" alt=\"Open In Colab\"/></a>"
      ]
    },
    {
      "cell_type": "code",
      "metadata": {
        "colab": {
          "base_uri": "https://localhost:8080/"
        },
        "id": "XRF9l2Ulo3TY",
        "outputId": "9f73c137-5b23-4653-9419-158e2e2c1589"
      },
      "source": [
        "class Parrot:\n",
        "    \n",
        "    # instance attributes\n",
        "    def __init__(self, name, age):\n",
        "        self.name = name\n",
        "        self.age = age\n",
        "    \n",
        "    # instance method\n",
        "    def sing(self, song):\n",
        "        return \"{} sings {}\".format(self.name, song)\n",
        "\n",
        "    def dance(self):\n",
        "        return \"{} is now dancing\".format(self.name)\n",
        "\n",
        "# instantiate the object\n",
        "blu = Parrot(\"Blu\", 10)\n",
        "\n",
        "# call our instance methods\n",
        "print(blu.sing(\"'Happy'\"))\n",
        "print(blu.dance())\n"
      ],
      "execution_count": null,
      "outputs": [
        {
          "output_type": "stream",
          "text": [
            "Blu sings 'Happy'\n",
            "Blu is now dancing\n"
          ],
          "name": "stdout"
        }
      ]
    },
    {
      "cell_type": "code",
      "metadata": {
        "colab": {
          "base_uri": "https://localhost:8080/"
        },
        "id": "SSMLVzSVxB0i",
        "outputId": "de0bb1d8-23fa-41de-d48f-b9d869dc5dc9"
      },
      "source": [
        "#q 1\n",
        "class Point3D :\n",
        "  def __init__(self,x,y,z):\n",
        "    self.x=x\n",
        "    self.y=y\n",
        "    self.z=z\n",
        "  def __repr__(self):\n",
        "    return \"x:% s y:% s z:% s\" % (self.x , self.y ,self.z)\n",
        "my_point=Point3D(1,2,3)\n",
        "#my_point.info(1,2,3)\n",
        "print(my_point)\n"
      ],
      "execution_count": null,
      "outputs": [
        {
          "output_type": "stream",
          "text": [
            "x:1 y:2 z:3\n"
          ],
          "name": "stdout"
        }
      ]
    },
    {
      "cell_type": "code",
      "metadata": {
        "colab": {
          "base_uri": "https://localhost:8080/"
        },
        "id": "gAhfYqWx9ovA",
        "outputId": "d3208fe5-f857-4c20-eea7-c226c73f6023"
      },
      "source": [
        "#q 2\n",
        "class Rectangle :\n",
        "  def __init__(self,length,width):\n",
        "    self.length=length\n",
        "    self.width=width\n",
        "  def perimetre(self):\n",
        "    print(\"p=\" ,(self.length+self.width)*2)\n",
        "  def area(self):\n",
        "    print(\"a=\",(self.length*self.width))\n",
        "my_rectangle=Rectangle(4,3)\n",
        "my_rectangle.perimetre()\n",
        "my_rectangle.area()"
      ],
      "execution_count": null,
      "outputs": [
        {
          "output_type": "stream",
          "text": [
            "p= 14\n",
            "a= 12\n"
          ],
          "name": "stdout"
        }
      ]
    },
    {
      "cell_type": "code",
      "metadata": {
        "id": "TDuQ7LT1EUwu"
      },
      "source": [
        "#q 3\n",
        "import math \n",
        "class Circle :\n",
        "  def __init__(self,center,radius):\n",
        "    self.center=center\n",
        "    self.radius=radius\n",
        "  def perimetre(self) :\n",
        "    p=math.pi*2*self.radius\n",
        "    print(p)\n",
        "  def area(self):\n",
        "    a=math.pi*self.radius**2\n",
        "    print(a)\n",
        "  def isinside(self,x,y):\n",
        "    if x**2+y**2==self.radius**2 :\n",
        "      print(\"A belongs to the circle\")\n",
        "    else :\n",
        "      print(\"A doesn't belong to the circle\")\n",
        "'''my_circle=Circle(\"O\",5)\n",
        "my_circle.perimetre()\n",
        "my_circle.area()\n",
        "my_circle.isinside(3,4)'''"
      ],
      "execution_count": null,
      "outputs": []
    },
    {
      "cell_type": "code",
      "metadata": {
        "id": "Gcm6b1I6-bTO"
      },
      "source": [
        "#q 4\n",
        "class Bank :\n",
        "  def __init__ (self,balance) :\n",
        "    self.balance=balance\n",
        "  def deposit(self,d) :\n",
        "    self.balance=self.balance+d\n",
        "    print(self.balance)\n",
        "  def withdraw (self,w):\n",
        "    self.balance=self.balance-w\n",
        "    print(self.balance)\n"
      ],
      "execution_count": null,
      "outputs": []
    }
  ]
}